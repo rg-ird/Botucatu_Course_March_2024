{
 "cells": [
  {
   "cell_type": "markdown",
   "metadata": {},
   "source": [
    "# SESSION_1  \n",
    "Botocatu 2024"
   ]
  },
  {
   "cell_type": "markdown",
   "metadata": {},
   "source": [
    "The goals of this session are to become proficient with Jupyter notebooks by installing Conda packages, to gain a deeper understanding of the Fast5 format, to basecall reads using Guppy/Dorado, and finally, to attempt evaluating the accuracy of Nanopore reads with Rattlesnake."
   ]
  },
  {
   "cell_type": "markdown",
   "metadata": {},
   "source": [
    "Prerequisites: In a `terminal` (not here), You need to create the curso_1 env, to install biopython and jupyter and activate the `Conda` env as follow before to start jupyter"
   ]
  },
  {
   "cell_type": "markdown",
   "metadata": {},
   "source": [
    "!conda create -y --name curso_1"
   ]
  },
  {
   "cell_type": "markdown",
   "metadata": {},
   "source": [
    "!conda install -y -n curso_1 -c conda-forge biopython "
   ]
  },
  {
   "cell_type": "markdown",
   "metadata": {},
   "source": [
    "!conda install -y -n curso_1 -c anaconda h5py seaborn wget cmake"
   ]
  },
  {
   "cell_type": "markdown",
   "metadata": {},
   "source": [
    "!conda activate curso_1"
   ]
  },
  {
   "cell_type": "markdown",
   "metadata": {},
   "source": [
    "And now type in your terminal:"
   ]
  },
  {
   "cell_type": "code",
   "execution_count": null,
   "metadata": {},
   "outputs": [],
   "source": [
    "!jypyter notebook"
   ]
  },
  {
   "cell_type": "markdown",
   "metadata": {},
   "source": [
    "Navigate to the jupyter page of the course"
   ]
  },
  {
   "cell_type": "markdown",
   "metadata": {},
   "source": [
    "**Don't forget to put the data.zip file in the session_1 directory and uncompress it if not inside!**"
   ]
  },
  {
   "cell_type": "markdown",
   "metadata": {},
   "source": [
    "Uncompress the data.zip"
   ]
  },
  {
   "cell_type": "code",
   "execution_count": null,
   "metadata": {},
   "outputs": [],
   "source": [
    "!unzip data.zip"
   ]
  },
  {
   "cell_type": "markdown",
   "metadata": {},
   "source": [
    "# Introduction about OXFORD NANOPORE"
   ]
  },
  {
   "cell_type": "markdown",
   "metadata": {},
   "source": [
    "`Oxford Nanopore` Technologies is one of the leading companies in sequencing technologies providing direct DNA/RNA sequencing molecules in a portable way. A large variety of sequencer options and sample preparation protocols enabled the process of obtaining long genomic fragments (https://nanoporetech.com/products).  \n",
    "The immense increase in fragment lengths, with respect to older sequencing generations, greatly facilitate the problem of de novo genome assembly by spanning even the longest repetitive regions. The limitation is the high error rate of the sequencing yield, ranging between 5 % and 15 %. This Notebook is intented to get familiar how the sequencing technology works, which format is used to store the sequencer output and how to translate it to genomic sequences.  \n",
    "Have a look to this webpage: https://nanoporetech.com/how-it-works/basecalling  "
   ]
  },
  {
   "cell_type": "markdown",
   "metadata": {},
   "source": [
    "The best way to see how Oxford Nanopore sequencing works is through their promotional videos. Run the cell below to load the YouTube video. (`command + enter` or `execute`)"
   ]
  },
  {
   "cell_type": "code",
   "execution_count": null,
   "metadata": {},
   "outputs": [],
   "source": [
    "from IPython.display import YouTubeVideo\n",
    "\n",
    "YouTubeVideo('RcP85JHLmnI', 560, 315)"
   ]
  },
  {
   "cell_type": "code",
   "execution_count": null,
   "metadata": {},
   "outputs": [],
   "source": [
    "from IPython.display import YouTubeVideo\n",
    "\n",
    "YouTubeVideo('iT_A_ucWMls', 560, 315)"
   ]
  },
  {
   "cell_type": "code",
   "execution_count": null,
   "metadata": {},
   "outputs": [],
   "source": [
    "from IPython.display import YouTubeVideo\n",
    "\n",
    "YouTubeVideo('ZE5L_ykAMj8', 560, 315) "
   ]
  },
  {
   "cell_type": "markdown",
   "metadata": {},
   "source": [
    "A ressource center with protocols and workflow is available at https://nanoporetech.com/resource-centre"
   ]
  },
  {
   "cell_type": "markdown",
   "metadata": {},
   "source": [
    "Example:  \n",
    "A workfow for Metagenomic assembly:  \n",
    "https://nanoporetech.com/sites/default/files/s3/literature/metagenomic-assembly-workflow.pdf  \n",
    "\n",
    "A workflow for human genome assemby:  \n",
    "https://nanoporetech.com/sites/default/files/s3/literature/human-genome-assembly-workflow.pdf  \n",
    "\n",
    "Genome assembly advices: https://nanoporetech.com/applications/investigation/assembly  "
   ]
  },
  {
   "cell_type": "markdown",
   "metadata": {},
   "source": [
    "Additional information about the technology can be found at https://nanoporetech.com/community. The website features detailed guides for a plethora of sample preparation protocols and hosts the needed software for both sequencing and basecalling.  \n",
    "Please visit the tutorial page at https://community.nanoporetech.com/knowledge/bioinformatics for more information"
   ]
  },
  {
   "cell_type": "markdown",
   "metadata": {},
   "source": [
    "# TO KNOW THE fast5 FORMAT"
   ]
  },
  {
   "cell_type": "markdown",
   "metadata": {},
   "source": [
    "To get a better grasp of the whole matter, we prepared a small dataset of a Bacillus subtilis genome which was sequenced with the R10 nanopore. The output of any Oxford Nanopore sequencer is stored in `fast5` format -or multi `fast5` because it contains a batch of reads in a single file. \n",
    "See : [FAST5](https://www.google.com/url?sa=t&rct=j&q=&esrc=s&source=web&cd=&ved=2ahUKEwjl78ag6YL5AhWtQTABHWM8Cu8QFnoECAIQAw&url=https%3A%2F%2Fwww.biorxiv.org%2Fcontent%2Fbiorxiv%2Fearly%2F2021%2F06%2F30%2F2021.06.29.450255%2FDC2%2Fembed%2Fmedia-2.pdf%3Fdownload%3Dtrue&usg=AOvVaw1Qc6P-3YAJRPhjk-PVh89o) file.  `fast5` format  is a specialization of the [hdf5](https://www.hdfgroup.org/solutions/hdf5/) file format.  \n",
    "It is a hierarchical data format, which looks like a filesystem, used to store and organize large datasets. The format is supported in a wide range of programing languages, and the Python API is incorporated in the `h5py` module."
   ]
  },
  {
   "cell_type": "code",
   "execution_count": null,
   "metadata": {},
   "outputs": [],
   "source": [
    "import h5py\n",
    "\n",
    "fast5 = h5py.File('data/bacillus_subtilis/bs_raw.fast5', mode='r')\n",
    "fast5.name"
   ]
  },
  {
   "cell_type": "markdown",
   "metadata": {},
   "source": [
    "Hierarchy of a Multi-fast5 file:  \n",
    "The root group (e.g. /) contains a group for each read that is named as “read_” followed by the read identifier"
   ]
  },
  {
   "cell_type": "code",
   "execution_count": null,
   "metadata": {
    "scrolled": true
   },
   "outputs": [],
   "source": [
    "list(fast5.keys())"
   ]
  },
  {
   "cell_type": "markdown",
   "metadata": {},
   "source": [
    "The object we loaded from the fast5 file is treated as a simple Python dictionary. To get a read, we simply put the desired read name inside brackets `[]`. We can also see the whole object tree with the visit member function. In addition, each object has meta data in its `attrs` member variable."
   ]
  },
  {
   "cell_type": "markdown",
   "metadata": {},
   "source": [
    "Under each read group, there are different groups:  "
   ]
  },
  {
   "cell_type": "code",
   "execution_count": null,
   "metadata": {},
   "outputs": [],
   "source": [
    "read = fast5['read_003f003d-a943-48b6-bf18-31f89f9fbed6']\n",
    "read.visit(print)"
   ]
  },
  {
   "cell_type": "markdown",
   "metadata": {},
   "source": [
    "Each group has different Attribute name and variable:  "
   ]
  },
  {
   "cell_type": "code",
   "execution_count": null,
   "metadata": {},
   "outputs": [],
   "source": [
    "print(read['tracking_id'].attrs['flow_cell_id'])\n",
    "print(read['tracking_id'].attrs['sample_id'])\n",
    "print(read['tracking_id'].attrs['device_type'])\n",
    "print(read['tracking_id'].attrs['protocol_group_id'])\n",
    "print(read['tracking_id'].attrs['protocol_run_id'])\n",
    "print(read['tracking_id'].attrs['protocols_version'])\n"
   ]
  },
  {
   "cell_type": "markdown",
   "metadata": {},
   "source": [
    "The point of interest is the raw electric signal which will be latter translated with the Guppy basecaller into a DNA sequence."
   ]
  },
  {
   "cell_type": "code",
   "execution_count": null,
   "metadata": {},
   "outputs": [],
   "source": [
    "signal = read['Raw']['Signal']\n",
    "signal.shape"
   ]
  },
  {
   "cell_type": "code",
   "execution_count": null,
   "metadata": {},
   "outputs": [],
   "source": [
    "signal[:]"
   ]
  },
  {
   "cell_type": "code",
   "execution_count": null,
   "metadata": {},
   "outputs": [],
   "source": [
    "from matplotlib import pyplot\n",
    "import seaborn\n",
    "\n",
    "seaborn.set()\n",
    "seaborn.set_style(\"white\")\n",
    "\n",
    "pyplot.rcParams[\"figure.figsize\"] = (20,5)\n",
    "\n",
    "pyplot.plot(signal[:])"
   ]
  },
  {
   "cell_type": "code",
   "execution_count": null,
   "metadata": {},
   "outputs": [],
   "source": [
    "pyplot.plot(signal[0:5000])"
   ]
  },
  {
   "cell_type": "code",
   "execution_count": null,
   "metadata": {},
   "outputs": [],
   "source": [
    "pyplot.plot(signal[4000:5000])"
   ]
  },
  {
   "cell_type": "markdown",
   "metadata": {},
   "source": [
    "We can easily create a smaller subset of the set we have at the moment. We need to open a new hdf5 file and copy the desired reads to it as below."
   ]
  },
  {
   "cell_type": "code",
   "execution_count": null,
   "metadata": {},
   "outputs": [],
   "source": [
    "read_f = h5py.File('read.fast5', mode='w')\n",
    "fast5.copy(read, read_f)\n",
    "read_f.close()"
   ]
  },
  {
   "cell_type": "markdown",
   "metadata": {},
   "source": [
    "You wrote the desire read as read.fadt5"
   ]
  },
  {
   "cell_type": "code",
   "execution_count": null,
   "metadata": {},
   "outputs": [],
   "source": [
    "!ls -lrt\n"
   ]
  },
  {
   "cell_type": "markdown",
   "metadata": {},
   "source": [
    "In order to basecall the data we need to download the Guppy basecaller with the following command (pick the appropriate commands with regards to your operating system) and unpack the archive. To see if it is working properly run it without parameters."
   ]
  },
  {
   "cell_type": "markdown",
   "metadata": {},
   "source": [
    "# TO BASECALL READS WITH `GUPPY` / `Dorado`"
   ]
  },
  {
   "cell_type": "markdown",
   "metadata": {},
   "source": [
    "[How works basecalling](https://nanoporetech.com/how-it-works/basecalling)\n",
    "\n",
    "[Guppy](https://github.com/asadprodhan/GPU-accelerated-guppy-basecalling)  \n",
    "\n",
    "[Dorado] (https://github.com/nanoporetech/dorado). \n",
    "\n",
    "[Tutorial](https://timkahlke.github.io/LongRead_tutorials/BS_G.html)"
   ]
  },
  {
   "cell_type": "markdown",
   "metadata": {},
   "source": [
    "**FOR GUPPY (new version 6.3.7)**"
   ]
  },
  {
   "cell_type": "code",
   "execution_count": null,
   "metadata": {},
   "outputs": [],
   "source": [
    "#for Linux users:  \n",
    "#!wget https://mirror.oxfordnanoportal.com/software/analysis/ont-guppy-cpu_4.4.1_linux64.tar.gz\n",
    "#!tar -xzvf ont-guppy-cpu_4.4.1_linux64.tar.gz\n",
    "\n",
    "#**#For MAC users only**\n",
    "!wget https://mirror.oxfordnanoportal.com/software/analysis/ont-guppy-cpu_4.4.1_osx64.zip\n",
    "#!unzip ont-guppy-cpu_4.4.1_osx64.zip"
   ]
  },
  {
   "cell_type": "code",
   "execution_count": null,
   "metadata": {},
   "outputs": [],
   "source": [
    "!ls"
   ]
  },
  {
   "cell_type": "markdown",
   "metadata": {},
   "source": [
    "unzip the downloaded file if not done automaticaly by the system"
   ]
  },
  {
   "cell_type": "markdown",
   "metadata": {},
   "source": [
    "Call the `guppy basecaller` program to see usage"
   ]
  },
  {
   "cell_type": "code",
   "execution_count": null,
   "metadata": {},
   "outputs": [],
   "source": [
    "!ont-guppy-cpu/bin/guppy_basecaller"
   ]
  },
  {
   "cell_type": "code",
   "execution_count": null,
   "metadata": {},
   "outputs": [],
   "source": [
    "!ls ont-guppy-cpu/data"
   ]
  },
  {
   "cell_type": "markdown",
   "metadata": {},
   "source": [
    "The basecalling parameters depend on which flowcell and library preparation kit was used to produce the data"
   ]
  },
  {
   "cell_type": "code",
   "execution_count": null,
   "metadata": {},
   "outputs": [],
   "source": [
    "!ont-guppy-cpu/bin/guppy_basecaller --print_workflows"
   ]
  },
  {
   "cell_type": "markdown",
   "metadata": {},
   "source": [
    "First we will try to translate only one signal in the subset file we created. The below Guppy command searches the current directory for all fast5 files and translates them to [FASTQ](https://en.wikipedia.org/wiki/FASTQ_format) format, using the R10 configuration file."
   ]
  },
  {
   "cell_type": "code",
   "execution_count": null,
   "metadata": {},
   "outputs": [],
   "source": [
    "!cat ont-guppy-cpu/data/dna_r10_450bps_fast.cfg"
   ]
  },
  {
   "cell_type": "code",
   "execution_count": null,
   "metadata": {},
   "outputs": [],
   "source": [
    "!ls"
   ]
  },
  {
   "cell_type": "code",
   "execution_count": null,
   "metadata": {},
   "outputs": [],
   "source": [
    "!ont-guppy-cpu/bin/guppy_basecaller \\\n",
    "    -c ont-guppy-cpu/data/dna_r10_450bps_fast.cfg \\\n",
    "    -i data/bacillus_subtilis \\\n",
    "    -s guppy_read"
   ]
  },
  {
   "cell_type": "code",
   "execution_count": null,
   "metadata": {},
   "outputs": [],
   "source": [
    "!cat guppy_read/fastq_runid_*.fastq"
   ]
  },
  {
   "cell_type": "code",
   "execution_count": null,
   "metadata": {},
   "outputs": [],
   "source": [
    "!cat guppy_read/sequencing_summary.txt"
   ]
  },
  {
   "cell_type": "code",
   "execution_count": null,
   "metadata": {},
   "outputs": [],
   "source": [
    "!ls guppy_all"
   ]
  },
  {
   "cell_type": "markdown",
   "metadata": {},
   "source": [
    "We can obtain the basecalled read length with the command below."
   ]
  },
  {
   "cell_type": "code",
   "execution_count": null,
   "metadata": {},
   "outputs": [],
   "source": [
    "!head -n 2 guppy_read/fastq_runid_*.fastq | tail -n 1 | wc"
   ]
  },
  {
   "cell_type": "markdown",
   "metadata": {},
   "source": [
    "Usually, the basecalling is accompanied with quality control, classifying reads into pass/faill classes.  \n",
    "Filtering is done with regards to the reads average Phred quality score. For each base, the score is calculated with: $Q = -10log_{10}{P}$, where $P$ is the base-calling error probability.  \n",
    "For example, a Phred score of $50$ equals the base call accuracy of $99.999\\%$.  See [Phred_quality_score](https://en.wikipedia.org/wiki/Phred_quality_score). \n",
    "Guppy has options `--qscore_filtering` and `--min_qscore`, first enabling filtering and the second setting the threshold (which is 7 by default). To store all found data into a single fastq file use option `-q 0`. Let us now try to basecall the whole dataset."
   ]
  },
  {
   "cell_type": "code",
   "execution_count": null,
   "metadata": {},
   "outputs": [],
   "source": [
    "!ont-guppy-cpu/bin/guppy_basecaller \\\n",
    "    -c ont-guppy-cpu/data/dna_r10_450bps_fast.cfg \\\n",
    "    -i data/bacillus_subtilis/ \\\n",
    "    -s guppy_all \\\n",
    "    -q 0 \\\n",
    "    --qscore_filtering \\\n",
    "    --min_qscore 7"
   ]
  },
  {
   "cell_type": "code",
   "execution_count": null,
   "metadata": {},
   "outputs": [],
   "source": [
    "!ls guppy_all"
   ]
  },
  {
   "cell_type": "code",
   "execution_count": null,
   "metadata": {},
   "outputs": [],
   "source": [
    "!cat guppy_all/sequencing_summary.txt"
   ]
  },
  {
   "cell_type": "markdown",
   "metadata": {},
   "source": [
    "**FOR DORADO** To test at home"
   ]
  },
  {
   "cell_type": "markdown",
   "metadata": {},
   "source": [
    "Dorado uses GPU/CPU access. Dorado uses POD5 format, and it is necessary to reformat Fast5 using [POD5] (https://github.com/nanoporetech/pod5-file-format) "
   ]
  },
  {
   "cell_type": "markdown",
   "metadata": {},
   "source": [
    "pod5 convert fast5 bs_raw.fast5 --output bs_raw.pod5"
   ]
  },
  {
   "cell_type": "markdown",
   "metadata": {},
   "source": [
    "Download the model"
   ]
  },
  {
   "cell_type": "code",
   "execution_count": null,
   "metadata": {},
   "outputs": [],
   "source": [
    "!dorado download"
   ]
  },
  {
   "cell_type": "code",
   "execution_count": null,
   "metadata": {},
   "outputs": [],
   "source": [
    "USAGE\n",
    "dorado basecaller\n",
    "Usage: dorado [-h] [--device VAR] [--read-ids VAR] [--resume-from VAR] [--max-reads VAR] [--min-qscore VAR] [--batchsize VAR] [--chunksize VAR] [--overlap VAR] [--recursive] [--modified-bases VAR...] [--modified-bases-models VAR] [--modified-bases-threshold VAR] [--emit-fastq] [--emit-sam] [--emit-moves] [--reference VAR] [--kit-name VAR] [--barcode-both-ends] [--no-trim] [--trim VAR] [--sample-sheet VAR] [--barcode-arrangement VAR] [--barcode-sequences VAR] [--estimate-poly-a] [-k VAR] [-w VAR] [-I VAR] [--secondary VAR] [-N VAR] [-Y] [--bandwidth VAR] model data\n",
    "\n",
    "Positional arguments:\n",
    "  model                     \tmodel selection {fast,hac,sup}@v{version} for automatic model selection including modbases, or path to existing model directory \n",
    "  data                      \tthe data directory or file (POD5/FAST5 format). \n",
    "\n",
    "Optional arguments:\n",
    "  -h, --help                \tshows help message and exits \n",
    "  -v, --verbose             \t\n",
    "  -x, --device              \tdevice string in format \"cuda:0,...,N\", \"cuda:all\", \"metal\", \"cpu\" etc.. [default: \"cuda:all\"]\n",
    "  -l, --read-ids            \tA file with a newline-delimited list of reads to basecall. If not provided, all reads will be basecalled [default: \"\"]\n",
    "  --resume-from             \tResume basecalling from the given HTS file. Fully written read records are not processed again. [default: \"\"]\n",
    "  -n, --max-reads           \t[default: 0]\n",
    "  --min-qscore              \tDiscard reads with mean Q-score below this threshold. [default: 0]\n",
    "  -b, --batchsize           \tif 0 an optimal batchsize will be selected. batchsizes are rounded to the closest multiple of 64. [default: 0]\n",
    "  -c, --chunksize           \t[default: 10000]\n",
    "  -o, --overlap             \t[default: 500]\n",
    "  -r, --recursive           \tRecursively scan through directories to load FAST5 and POD5 files \n",
    "  --modified-bases          \t[nargs: 1 or more] \n",
    "  --modified-bases-models   \ta comma separated list of modified base models [default: \"\"]\n",
    "  --modified-bases-threshold\tthe minimum predicted methylation probability for a modified base to be emitted in an all-context model, [0, 1] [default: 0.05]\n",
    "  --emit-fastq              \tOutput in fastq format. \n",
    "  --emit-sam                \tOutput in SAM format. \n",
    "  --emit-moves              \t\n",
    "  --reference               \tPath to reference for alignment. [default: \"\"]\n",
    "  --kit-name                \tEnable barcoding with the provided kit name. Choose from: EXP-NBD103 EXP-NBD104 EXP-NBD114 EXP-NBD196 EXP-PBC001 EXP-PBC096 SQK-16S024 SQK-16S114-24 SQK-LWB001 SQK-MLK111-96-XL SQK-MLK114-96-XL SQK-NBD111-24 SQK-NBD111-96 SQK-NBD114-24 SQK-NBD114-96 SQK-PBK004 SQK-PCB109 SQK-PCB110 SQK-PCB111-24 SQK-PCB114-24 SQK-RAB201 SQK-RAB204 SQK-RBK001 SQK-RBK004 SQK-RBK110-96 SQK-RBK111-24 SQK-RBK111-96 SQK-RBK114-24 SQK-RBK114-96 SQK-RLB001 SQK-RPB004 SQK-RPB114-24 VSK-PTC001 VSK-VMK001 VSK-VMK004 VSK-VPS001. \n",
    "  --barcode-both-ends       \tRequire both ends of a read to be barcoded for a double ended barcode. \n",
    "  --no-trim                 \tSkip trimming of barcodes, adapters, and primers. If option is not chosen, trimming of all three is enabled. \n",
    "  --trim                    \tSpecify what to trim. Options are 'none', 'all', 'adapters', and 'primers'. Default behavior is to trim all detected adapters, primers, or barcodes. Choose 'adapters' to just trim adapters. The 'primers' choice will trim adapters and primers, but not barcodes. The 'none' choice is equivelent to using --no-trim. Note that this only applies to DNA. RNA adapters are always trimmed. [default: \"\"]\n",
    "  --sample-sheet            \tPath to the sample sheet to use. [default: \"\"]\n",
    "  --barcode-arrangement     \tPath to file with custom barcode arrangement. [default: <not representable>]\n",
    "  --barcode-sequences       \tPath to file with custom barcode sequences. [default: <not representable>]\n",
    "  --estimate-poly-a         \tEstimate poly-A/T tail lengths (beta feature). Primarily meant for cDNA and dRNA use cases. Note that if this flag is set, then adapter/primer detection will be disabled. \n",
    "  -k                        \tminimap2 k-mer size for alignment (maximum 28). [default: 15]\n",
    "  -w                        \tminimap2 minimizer window size for alignment. [default: 10]\n",
    "  -I                        \tminimap2 index batch size. [default: \"16G\"]\n",
    "  --secondary               \tminimap2 outputs secondary alignments [default: \"yes\"]\n",
    "  -N                        \tminimap2 retains at most INT secondary alignments [default: 5]\n",
    "  -Y                        \tminimap2 uses soft clipping for supplementary alignments \n",
    "  --bandwidth               \tminimap2 chaining/alignment bandwidth and optionally long-join bandwidth specified as NUM,[NUM] [default: \"500,20K\"]"
   ]
  },
  {
   "cell_type": "code",
   "execution_count": null,
   "metadata": {},
   "outputs": [],
   "source": [
    "!dorado basecaller dna_r10.4.1_e8.2_260bps_fast@v3.5.2  bs_raw.pod5 --device cpu  --emit-fastq >  bs_raw.pod5.fastq"
   ]
  },
  {
   "cell_type": "code",
   "execution_count": null,
   "metadata": {},
   "outputs": [],
   "source": [
    "!more bs_raw.pod5.fastq"
   ]
  },
  {
   "cell_type": "markdown",
   "metadata": {},
   "source": [
    "To see the the length distribution of the basecalled read set we can simply draw a histogram as below. In addition, it would be nice to calculate the average base accuracy given a reference genome. Lets do that for one read that passed the filtering."
   ]
  },
  {
   "cell_type": "markdown",
   "metadata": {},
   "source": [
    "Exercise\n",
    "If the command below doesn't work it means that Biopython is not install on you system. Biopython needs to be installed  (https://biopython.org/wiki/Download). In this case use conda in the window below to install Biopython"
   ]
  },
  {
   "cell_type": "code",
   "execution_count": null,
   "metadata": {
    "scrolled": true
   },
   "outputs": [],
   "source": [
    "from Bio import SeqIO\n",
    "\n",
    "with open('guppy_all/pass/fastq_runid_aea170ff77e7e76bd42c58335c528e15f49ba94c_0_0.fastq') as handle:\n",
    "    reads = []\n",
    "    for read in SeqIO.parse(handle, 'fastq'):\n",
    "        reads.append(len(read.seq))\n",
    "    pyplot.hist(reads)"
   ]
  },
  {
   "cell_type": "markdown",
   "metadata": {},
   "source": [
    "Lets pick read `04f26824-995e-49df-b661-7bf4efcc8ce9` for example.  \n",
    "First we need to find where in the reference did it originate. This is done with tools called mappers which will be explained in the `session_2`.  \n",
    "For now we can assume we know the positions are $[2158952, 2182735]$. We need to extract the read and the portion of the reference into new files. Afterwards we will align them with edit distance to calculate the accuracy."
   ]
  },
  {
   "cell_type": "markdown",
   "metadata": {},
   "source": [
    "# TO KNOW ACCURACY WITH RATLESNAKE, using a reference genome"
   ]
  },
  {
   "cell_type": "markdown",
   "metadata": {},
   "source": [
    "`Ratlesnake` was designed to aid development of new assembly algorithms. Given a reference genome, it calculates the most contiguous assembly possible for each chromosome separately. In addition, it classifies sequences into distinct classes and annotates related events, such as breaking points in chimeric sequences, inclusion intervals of contained sequences and repetitive genomic regions in sequences overlapping them. [Ratlesnake](https://github.com/lbcb-sci/ratlesnake)"
   ]
  },
  {
   "cell_type": "markdown",
   "metadata": {},
   "source": [
    "You need to install cmake before on your system if not done ! "
   ]
  },
  {
   "cell_type": "code",
   "execution_count": null,
   "metadata": {},
   "outputs": [],
   "source": [
    "!git clone https://github.com/lbcb-sci/ratlesnake\n",
    "!mkdir ratlesnake/build\n",
    "!cmake -S ratlesnake -B ratlesnake/build -DCMAKE_BUILD_TYPE=Release\n",
    "!make -C ratlesnake/build"
   ]
  },
  {
   "cell_type": "code",
   "execution_count": null,
   "metadata": {},
   "outputs": [],
   "source": [
    "!ratlesnake/build/bin/ratlesnake"
   ]
  },
  {
   "cell_type": "code",
   "execution_count": null,
   "metadata": {
    "scrolled": false
   },
   "outputs": [],
   "source": [
    "!ratlesnake/build/bin/ratlesnake \\\n",
    "    guppy_all/pass/fastq_runid_aea170ff77e7e76bd42c58335c528e15f49ba94c_0_0.fastq"
   ]
  },
  {
   "cell_type": "code",
   "execution_count": null,
   "metadata": {
    "scrolled": false
   },
   "outputs": [],
   "source": [
    "!ratlesnake/build/bin/ratlesnake \\\n",
    "    -r 1 \\\n",
    "    -t 4 \\\n",
    "    guppy_all/pass/fastq_runid_aea170ff77e7e76bd42c58335c528e15f49ba94c_0_0.fastq \\\n",
    "    data/bacillus_subtilis/bs_ref.fasta\n",
    "#-r 1 - sequence accuracy given reference (histogram on stdout)"
   ]
  },
  {
   "cell_type": "markdown",
   "metadata": {},
   "source": [
    "We will use Guppy's high accuracy configuration file to basecall the first Bacillus subtilis reads set and compare the results with the fast mode."
   ]
  },
  {
   "cell_type": "markdown",
   "metadata": {},
   "source": [
    "Let's try `Guppy` with different conf files: dna_r10_450bps_fast.cfg and dna_r10_450bps_hac.cfg  \n",
    "`Guppy` provides two different architectures: a fast base caller, which can base call with 85–92% median read accuracy and a high-accuracy base caller (90–96% median read accuracy).  "
   ]
  },
  {
   "cell_type": "code",
   "execution_count": null,
   "metadata": {},
   "outputs": [],
   "source": [
    "!ont-guppy-cpu/bin/guppy_basecaller \\\n",
    "    -c ont-guppy-cpu/data/dna_r10_450bps_fast.cfg \\\n",
    "    -i data/bacillus_subtilis/ \\\n",
    "    -s guppy_fast \\\n",
    "    -q 0 \\\n",
    "    --qscore_filtering"
   ]
  },
  {
   "cell_type": "code",
   "execution_count": null,
   "metadata": {},
   "outputs": [],
   "source": [
    "!ratlesnake/build/bin/ratlesnake \\\n",
    "    -r 0 -r 1 \\\n",
    "    -t 4 \\\n",
    "    guppy_fast/pass/fastq_*.fastq \\\n",
    "    data/bacillus_subtilis/bs_ref.fasta"
   ]
  },
  {
   "cell_type": "code",
   "execution_count": null,
   "metadata": {},
   "outputs": [],
   "source": [
    "The folowing basecalling will take time! "
   ]
  },
  {
   "cell_type": "code",
   "execution_count": null,
   "metadata": {},
   "outputs": [],
   "source": [
    "!ont-guppy-cpu/bin/guppy_basecaller \\\n",
    "    -c ont-guppy-cpu/data/dna_r10_450bps_hac.cfg \\\n",
    "    -i data/bacillus_subtilis \\\n",
    "    -s guppy_hac \\\n",
    "    -q 0 \\\n",
    "    --qscore_filtering"
   ]
  },
  {
   "cell_type": "code",
   "execution_count": null,
   "metadata": {},
   "outputs": [],
   "source": [
    "!ratlesnake/build/bin/ratlesnake \\\n",
    "    -r 0 -r 1 \\\n",
    "    -t 4 \\\n",
    "    guppy_hac/pass/fastq_*.fastq \\\n",
    "    data/bacillus_subtilis/bs_ref.fasta"
   ]
  },
  {
   "cell_type": "markdown",
   "metadata": {},
   "source": [
    "Compare the results with different `Guppy` conf files or `Dorado` conf files"
   ]
  }
 ],
 "metadata": {
  "kernelspec": {
   "display_name": "Python 3 (ipykernel)",
   "language": "python",
   "name": "python3"
  },
  "language_info": {
   "codemirror_mode": {
    "name": "ipython",
    "version": 3
   },
   "file_extension": ".py",
   "mimetype": "text/x-python",
   "name": "python",
   "nbconvert_exporter": "python",
   "pygments_lexer": "ipython3",
   "version": "3.11.0"
  }
 },
 "nbformat": 4,
 "nbformat_minor": 4
}
