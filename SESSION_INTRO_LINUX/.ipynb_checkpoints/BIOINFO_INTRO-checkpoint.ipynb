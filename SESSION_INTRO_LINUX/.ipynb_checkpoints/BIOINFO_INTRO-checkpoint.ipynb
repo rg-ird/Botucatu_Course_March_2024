{
 "cells": [
  {
   "cell_type": "markdown",
   "id": "d2b5cae6",
   "metadata": {},
   "source": [
    "# Introduction to Linux and Commands for bioinformatics.  \n",
    "*(how to survive to a Linux environment?)*"
   ]
  },
  {
   "cell_type": "markdown",
   "id": "6fa70081",
   "metadata": {},
   "source": [
    "The objectives of this course is to known the basic Linux commands:   \n",
    "    to handles files  (`sort`, `cut`, `wc`, `tr`),    \n",
    "    to sort and filter data (`grep`, `sed`, `awk`),    \n",
    "    to move in the file architecture\n"
   ]
  },
  {
   "cell_type": "markdown",
   "id": "f73665b2",
   "metadata": {},
   "source": [
    "The kernel manage the basic system tasks :  \n",
    "\t• System init   \n",
    "\t• Resources management  \n",
    "\t• Processes management   \n",
    "\t• Files managements  \n",
    "\t• Inputs/Outputs managements  \n",
    "    \n",
    "`SHELL` : user interface (terminal or graphic)  \n",
    "Kernel = part of the OS dealing with process, memory, data exchange  "
   ]
  },
  {
   "cell_type": "code",
   "execution_count": null,
   "id": "6e850ff1",
   "metadata": {},
   "outputs": [],
   "source": [
    "from IPython.display import Image\n",
    "# Load image from local storage\n",
    "Image(filename= \"Kernel.png\", width = 600, height = 300)"
   ]
  },
  {
   "cell_type": "markdown",
   "id": "aa292587",
   "metadata": {},
   "source": [
    "Numerous small programs in the “Shell”.    \n",
    "\n",
    "Easy to develop workflow to link programs/commands between them (scripting)  "
   ]
  },
  {
   "cell_type": "markdown",
   "id": "8fad1c8a",
   "metadata": {},
   "source": [
    "# 1_ The Shell: Introduction"
   ]
  },
  {
   "cell_type": "markdown",
   "id": "9b5eda38",
   "metadata": {},
   "source": [
    "Shell: Interpreter for command-lines and programming language.    \n",
    "Interface between user and kernel/system behalf on command-lines  \n",
    "Various shells : sh (Bourne shell), bash (Bourne again shell), csh (ksh)  "
   ]
  },
  {
   "cell_type": "markdown",
   "id": "bc35b103",
   "metadata": {},
   "source": [
    "##### Tips: You can type the following commands without the (!) in a Terminal or  type Enter each follwing windows"
   ]
  },
  {
   "cell_type": "code",
   "execution_count": null,
   "id": "4b923dcb",
   "metadata": {},
   "outputs": [],
   "source": [
    "#give the default shell\n",
    "!echo $SHELL"
   ]
  },
  {
   "cell_type": "markdown",
   "id": "9f4c4677",
   "metadata": {},
   "source": [
    "Syntax of a shell command.   \n",
    "A UNIX command line consists of the name of a UNIX command followed by its \"arguments\" (options and the target filenames and/or expressions).   The general syntax for a UNIX command is :   \n",
    "**Syntax** :  \n",
    "\tcommand [ -options ] [ arguments or target]  \n"
   ]
  },
  {
   "cell_type": "code",
   "execution_count": null,
   "id": "f58aace7",
   "metadata": {},
   "outputs": [],
   "source": [
    "#example:\n",
    "!ls -l /etc"
   ]
  },
  {
   "cell_type": "markdown",
   "id": "56693366",
   "metadata": {},
   "source": [
    "A `manual` for each command"
   ]
  },
  {
   "cell_type": "code",
   "execution_count": null,
   "id": "225535ef",
   "metadata": {},
   "outputs": [],
   "source": [
    "!man ls"
   ]
  },
  {
   "cell_type": "code",
   "execution_count": null,
   "id": "f0c628b1",
   "metadata": {},
   "outputs": [],
   "source": [
    "!whatis ls"
   ]
  },
  {
   "cell_type": "code",
   "execution_count": null,
   "id": "97266570",
   "metadata": {},
   "outputs": [],
   "source": [
    "!ls -ltr /etc"
   ]
  },
  {
   "cell_type": "markdown",
   "id": "a9852566",
   "metadata": {},
   "source": [
    "**Linux is case sensitive**  \n",
    "\n",
    "Linux filenames must only contain\t/letters / numbers /_ / . / - / characters   \n",
    "\t\t\t\t\tbut no spaces and no accents  \n",
    "\n",
    "Suffix in filenames (eg .txt) can be any number of letters and is optional  \n",
    "\n",
    "Filenames : 255 characters maximum  "
   ]
  },
  {
   "cell_type": "code",
   "execution_count": null,
   "id": "b7db4cf8",
   "metadata": {},
   "outputs": [],
   "source": [
    "!LS -LRT"
   ]
  },
  {
   "cell_type": "markdown",
   "id": "2cc8bf44",
   "metadata": {},
   "source": [
    "**Special characters (Metacharacters) have special meaning**  \n",
    "\n",
    " & ~ # ”  ' { (  [ | ` \\ ^ @ ) ] } $ * % ! / ; , ?   \n",
    "\n",
    "wildcard characters, the most common of which is * which tells the shell to substitute any combination of zero or more characters that results in an existing filename.  "
   ]
  },
  {
   "cell_type": "markdown",
   "id": "bd24f00f",
   "metadata": {},
   "source": [
    "# 2_ Few commands"
   ]
  },
  {
   "cell_type": "markdown",
   "id": "93aa68b2",
   "metadata": {},
   "source": [
    "**Where are you un the file system**:  \n",
    "ls\t\t\t\t\tList all files/directories [only show names]  \n",
    "ls –l \t\t\t\tLong listing: show other information too  \n",
    "ls –a\t\t\t\tShow hidden files and directories (start with . ,, not show by default)  "
   ]
  },
  {
   "cell_type": "markdown",
   "id": "34a80fdb",
   "metadata": {},
   "source": [
    "**Basics**  \n",
    "Pwd\t\t\t\tPrint Working Diretory  \n",
    "date\t\t\tTime and Date for System\t\t  \n",
    "who \t\t\tConnected users list  \n",
    "whoami\t\t\tDisplay the full name of current user   \n",
    "cal\t\t\t\tDisplay a Calendar    \n",
    "uname\t\t\tVersion and Name of the system   \n",
    "id\t\t\t\tDisplay current user ID   \n",
    "su\t\t\t\tAllow to change user  \n",
    "exit\t\t\tExit the shell session  \n",
    "ln\t\t\t\tMake links   "
   ]
  },
  {
   "cell_type": "code",
   "execution_count": null,
   "id": "c5df24d0",
   "metadata": {},
   "outputs": [],
   "source": [
    "#test here some commands\n",
    "!"
   ]
  },
  {
   "cell_type": "markdown",
   "id": "395c6a17",
   "metadata": {},
   "source": [
    "# 3_ The file system"
   ]
  },
  {
   "cell_type": "markdown",
   "id": "2f754240",
   "metadata": {},
   "source": [
    "**Main directories**  \n",
    "/\t\t\t\tRoot directory (slash)\t  \n",
    "/bin \t\t\t\tMain commands, shell, programs to start the system [crucial don’t touch]  \n",
    "/etc\t\t \t\tConfiguration files for the system [ignore] /etc/passwd (info about users)  \n",
    "/lib\t\t\t\tLibraries used by programs mainly during starting [ignore]  \n",
    "/mnt\t\t\tMount point (cdrom, floppy, ect…)  \n",
    "/usr, /opt\t\t\tApplications and user libraries, shared with users [crucial don’t touch]  \n",
    "/usr/bin\t\t\tMain directory for system commands\t[crucial don’t touch]  \n",
    "/var\t\t\t\tLogfiles [ignore]  \n",
    "/tmp\t\t\tTemporary files [ignore]  \n",
    "/root\t\t\tAdministrator’s home  \n",
    "/home\t\t\tUser directory (one per user, name = login) /home/user  \n",
    "\t\t\t\tthe place where my files are stored  "
   ]
  },
  {
   "cell_type": "markdown",
   "id": "0f136566",
   "metadata": {},
   "source": [
    "cd\t\t\tChange Directory\n",
    "cd directory_name (as argument)\t\n"
   ]
  },
  {
   "cell_type": "code",
   "execution_count": null,
   "id": "07f9dcf9",
   "metadata": {},
   "outputs": [],
   "source": [
    "#example \n",
    "!cd /home"
   ]
  },
  {
   "cell_type": "code",
   "execution_count": null,
   "id": "f3745da3",
   "metadata": {},
   "outputs": [],
   "source": [
    "!ls"
   ]
  },
  {
   "cell_type": "code",
   "execution_count": null,
   "id": "50148270",
   "metadata": {},
   "outputs": [],
   "source": [
    "#the place where I am in the file system\n",
    "!pwd"
   ]
  },
  {
   "cell_type": "code",
   "execution_count": null,
   "id": "7b12ba9a",
   "metadata": {},
   "outputs": [],
   "source": [
    "#to go up \n",
    "!cd .."
   ]
  },
  {
   "cell_type": "code",
   "execution_count": null,
   "id": "1fcc1012",
   "metadata": {},
   "outputs": [],
   "source": [
    "!ls"
   ]
  },
  {
   "cell_type": "markdown",
   "id": "b09e5899",
   "metadata": {},
   "source": [
    "**File and directory management.**\n",
    "pwd \t\t\t\t\t\tName of current Directory  \n",
    "ls rep_name\t\t\t\tDisplay the list of files in the folder  \n",
    "cd rep_name\t\t\t\tChange working directory  \n",
    "mkdir rep_name\t\t\tCreate the directory  \n",
    "rmdir\trep_name\t\t\tRemove the directory  \n",
    "rm –r rep_name\t\t\tRemove the directory and all the files \t(Use with Caution)\t  \n",
    "df –h \t\t\t\t\t\tdisk free (storage used)\t\t  \n",
    "du –sh name\t\t\t\t\tcheck size of files\t\t\t  \t\t\n",
    "cp source target\t\t\tCopy source to target  \n",
    "mv old_name new_name\tChange the file name  "
   ]
  },
  {
   "cell_type": "markdown",
   "id": "8081da26",
   "metadata": {},
   "source": [
    "# 4_ File attributes\n"
   ]
  },
  {
   "cell_type": "code",
   "execution_count": null,
   "id": "a25082e0",
   "metadata": {},
   "outputs": [],
   "source": [
    "!ls -l"
   ]
  },
  {
   "cell_type": "raw",
   "id": "9e1dd003",
   "metadata": {},
   "source": [
    "**-rwxrwx--- are the attributes**  \n",
    " rwx means r read, w write, x execute for the owner(user) of the file.   \n",
    "    rwx means the same foe the group  \n",
    "       --- means no permission for the rest of the world  "
   ]
  },
  {
   "cell_type": "markdown",
   "id": "7b804bb0",
   "metadata": {},
   "source": [
    "chmod command for permission management.  \n",
    "9 choices (rwx or each type of person; default = 644)  \n",
    "\t0 = no permission\t\t4 = read only  \n",
    "\t1 = execute only \t\t5 = r + x  \n",
    "\t2 = write only\t\t\t6 = r + w  \n",
    "\t3 = x + w\t\t\t\t7 = r + w + x   \n",
    "    \n",
    "For example chmod 777 file gives the full rights for everyone  \n"
   ]
  },
  {
   "cell_type": "markdown",
   "id": "1b944b60",
   "metadata": {},
   "source": [
    "# 5_ Special Characters \n"
   ]
  },
  {
   "cell_type": "markdown",
   "id": "4e7bb70f",
   "metadata": {},
   "source": [
    "|?\t\t\t|Every single character  |\n",
    "|---|---|\n",
    "|*\t\t|\tWhatever is the character chain   |\n",
    "|[chain]\t|\tAll characters in chain  |\n",
    "|[!chain]\t|\tAll characters not in chain  |"
   ]
  },
  {
   "cell_type": "markdown",
   "id": "6dac8cd2",
   "metadata": {},
   "source": [
    "\n",
    "|~  | Home directory|\n",
    "|---|---|\n",
    "|#| Comment  |\n",
    "|$ |  Variable  |\n",
    "|& |  Background process  |\n",
    "|>|   Redirection of output  |\n",
    "|<|   Redirection of input  |\n",
    "|/|   Separator of folders in paths  |\n"
   ]
  },
  {
   "cell_type": "markdown",
   "id": "fe5dd8e9",
   "metadata": {},
   "source": [
    "# 6_ Files handling"
   ]
  },
  {
   "cell_type": "markdown",
   "id": "7d74aa94",
   "metadata": {},
   "source": [
    "touch option file_name\t\t\tCreate new file/Modify last.  \n",
    "'>'file\t\t\t\t\t\t\tCreate a file.  \n",
    "ln –s source Target\t\t\tCreate a symbolic link.   \n",
    "vi\t\t\t\t\t\t\tA text editor."
   ]
  },
  {
   "cell_type": "markdown",
   "id": "8dbcd090",
   "metadata": {},
   "source": [
    "more \t\t\t\t\t\tDisplay the file content page per page  \n",
    "more file_name  \n",
    "\n",
    "head \t\t\t\t\t\tDisplay the first n lines (default n=10) of files  \n",
    "head -50 file_name\t\t\tDisplay firt 50 lines  \n",
    "\n",
    "tail \t\t\t\t\t\tDisplay the last n lines (default n=10) of files  \n",
    "tail -100 file_name \t\tDisplay last 100 lines  \n",
    "tail –line=+2 file_name \tDisplay all except header line  \n",
    "\n",
    "head -1000 file_name | tail -400  \n",
    "\t\n",
    "cat \t\t\t\t\t\tDisplay the whole content of a file  \n",
    "less \t\t\t\t\t\tDisplay the file content page per page (space / b /   \n",
    "\t\t\t\t\t\t\tq –N as option for searching e.g.)  "
   ]
  },
  {
   "cell_type": "code",
   "execution_count": null,
   "id": "05394cf8",
   "metadata": {},
   "outputs": [],
   "source": [
    "!more /etc/passwd"
   ]
  },
  {
   "cell_type": "markdown",
   "id": "899641e9",
   "metadata": {},
   "source": [
    "`sort`\t\tSort line of text files  \n",
    "\t\t\t\t-k field  \n",
    "\t\t\t\t-t field separator (ie ‘|’)  \n",
    "\t\t\t\t-d dictionary order  \n",
    "\t\t\t\t-n numeric sort lines of text  "
   ]
  },
  {
   "cell_type": "markdown",
   "id": "fae6542e",
   "metadata": {},
   "source": [
    "`cut\t`\tcut -c(columns) [file] cut -c5-10 file cut  \n",
    "-d(separator)   \n",
    "-f(fields) [fichiers]   \n",
    "\t\tcut -d: -f1,5 /etc/passwd  "
   ]
  },
  {
   "cell_type": "code",
   "execution_count": null,
   "id": "3287c219",
   "metadata": {},
   "outputs": [],
   "source": [
    "!cut -d: -f1,5 /etc/passwd"
   ]
  },
  {
   "cell_type": "markdown",
   "id": "4dae82b9",
   "metadata": {},
   "source": [
    "`wC`\t\twc file wc –l file (Count the number of words, lines or characters in a file)"
   ]
  },
  {
   "cell_type": "code",
   "execution_count": null,
   "id": "a9633d47",
   "metadata": {},
   "outputs": [],
   "source": [
    "!wc /etc/passwd"
   ]
  },
  {
   "cell_type": "markdown",
   "id": "9b2bc2a6",
   "metadata": {},
   "source": [
    "`tr`\t\t\n",
    "tr [options] ch1 ch2 <file1 >file2 (Convert one character chain in another of the SAME sizetr`\t\t\n",
    "\n",
    "\t\ttr 'A-Z' 'a-z’ < file 1"
   ]
  },
  {
   "cell_type": "code",
   "execution_count": null,
   "id": "816c56d4",
   "metadata": {},
   "outputs": [],
   "source": [
    "!tr 'A-Z' 'a-z' < /etc/passwd"
   ]
  },
  {
   "cell_type": "markdown",
   "id": "4567b3fb",
   "metadata": {},
   "source": [
    "`uniq`\t\tRemove duplicate lines  \n",
    "\t\t\t-u unique  \n",
    "\t\t\t-d repeated  "
   ]
  },
  {
   "cell_type": "markdown",
   "id": "f395e0e8",
   "metadata": {},
   "source": [
    "**The Shell : standard input/output**  \n",
    "    When executing a command, 3 flux are open by the SHELL: STDIN, STDOUT, STDERR  \n",
    "    You can redirect the output in a new file or to another command  "
   ]
  },
  {
   "cell_type": "markdown",
   "id": "e2fa9636",
   "metadata": {},
   "source": [
    "**The redirection arrows:**  \n",
    "    `cut` -d: -f1 /etc/passwd > user_name.list"
   ]
  },
  {
   "cell_type": "markdown",
   "id": "3cc66047",
   "metadata": {},
   "source": [
    "Command > file\t\t\tRedirect output in a newly created file (will erase existing file with this name).  \n",
    "Command >> file\t\t\tRedirect output to a new file or at the end of an already existing file with this name  (append to file)  \n",
    "Command < file\t\t\tRedirect the Input from a file  \n",
    "Command < file1 > file2\t\t\tPossibility of redirection for the two I/O in the same time  \n"
   ]
  },
  {
   "cell_type": "markdown",
   "id": "46353865",
   "metadata": {},
   "source": [
    "**The Redirection tube**  \n",
    "Possibility to connect programs between each other (output from the first -> input for the second one) using pipes (or tubes)  \n",
    "\n",
    "Redirect the Standard Output from one command to the Standard Input of another without using a file  \n",
    "\n",
    "Links commands with the “pipe”  symbol:         `|`          "
   ]
  },
  {
   "cell_type": "code",
   "execution_count": null,
   "id": "6578fdeb",
   "metadata": {},
   "outputs": [],
   "source": [
    "!cut -d: -f1 /etc/passwd"
   ]
  },
  {
   "cell_type": "code",
   "execution_count": null,
   "id": "a2b37887",
   "metadata": {},
   "outputs": [],
   "source": [
    "!cut -d: -f1 /etc/passwd | sort"
   ]
  },
  {
   "cell_type": "code",
   "execution_count": null,
   "id": "e561a35a",
   "metadata": {},
   "outputs": [],
   "source": [
    "!cut -d: -f1 /etc/passwd | sort | head"
   ]
  },
  {
   "cell_type": "markdown",
   "id": "7c289663",
   "metadata": {},
   "source": [
    "**Control of commands**"
   ]
  },
  {
   "cell_type": "markdown",
   "id": "3ac5cabd",
   "metadata": {},
   "source": [
    "**& (ampersand)** : execute a command in background by adding a '&' at the end of the command-line. \n",
    "The user can thus continue to use the terminal even if the process is still running"
   ]
  },
  {
   "cell_type": "markdown",
   "id": "951abad9",
   "metadata": {},
   "source": [
    "`top`\t\t\tDisplay processes list, their memory and CPU usage, real time  \n",
    "  \n",
    "`p`\t\t\tDisplay executed tasks\t ps\t\t\tDisplay executed tasks\t ` \n",
    "\t\t\n",
    "`Kill`\t\tAllow to terminate a specific task based on \tits process ID (pid) \n",
    "\n",
    "`CONTROL C`\tstop a foreground process CONTROL C\tstop a foreground process ` \n",
    "\n",
    "`CONTROL Z`\tsuspend process  \n",
    "\n",
    "`bg`\t\t\tswitches process to background  \n",
    "\n",
    "`fg`\t\t\tswitches process to foreground  "
   ]
  },
  {
   "cell_type": "markdown",
   "id": "b50cc8ba",
   "metadata": {},
   "source": [
    "**Compress files**   \n",
    "Compress files:  \n",
    "\t    `tar`–cvf tarnamefile directory2tar  \n",
    "\t    `zip` file_name  \n",
    "Display:  \n",
    "\t\t`zmore` dmel-all-CDS-r6.24.fasta.gz  \n",
    "Compare Files   \n",
    "\t\t`zdiff` data1.gz data2.gz  \n",
    "Search expression:  \n",
    "\t    `zgrep` ‘copia’ dmel-all-CDS-r6.24.fasta.gz  \n",
    "Decompress files:    \n",
    "\t    `gunzip` dmel-all-CDS-r6.24.fasta.gz  \n",
    "\t    tar –xvf file.tar  \n",
    "        tar –xvf file.tar.gz  \n"
   ]
  },
  {
   "cell_type": "markdown",
   "id": "a0ddf471",
   "metadata": {},
   "source": [
    "# 7_ How to get information from output files?"
   ]
  },
  {
   "cell_type": "markdown",
   "id": "ab6e4efa",
   "metadata": {},
   "source": [
    "`grep` : finding a pattern in a line  \n",
    "    The grep command allows to search a character chain in a file or more   "
   ]
  },
  {
   "cell_type": "code",
   "execution_count": null,
   "id": "39fd26aa",
   "metadata": {},
   "outputs": [],
   "source": [
    "!grep '^b' /etc/passwd"
   ]
  },
  {
   "cell_type": "markdown",
   "id": "be6ae79b",
   "metadata": {},
   "source": [
    "**grep : Regular Expression**  \n",
    "    Simplest and most widely used Meta-characters  \n",
    "    \n",
    "    \n",
    "| Metacharacter | Description |\n",
    "|---------|---------|\n",
    "|.\t            |Any character, even space/tab|\n",
    "|x*\t            |Zero or more occurrence of x|\n",
    "|x+ \t        |    One or more occurrence of x|\n",
    "|x? \t        |    Only one occurrence of x|\n",
    "|^\t            |Beginning of a line|\n",
    "|$\t            |End of a line|\n",
    "|[A-Z ]\t        |Any character of the list between [ ] (here all uppercase letters)|\n",
    "|[^A]\t        |Any characters but the ones listed between the [ ]|\n",
    "|x\\{n\\}\t        |n occurrences of the character x|"
   ]
  },
  {
   "cell_type": "markdown",
   "id": "ec56a3ca",
   "metadata": {},
   "source": [
    "**Sed : Searching and modifying in a line**"
   ]
  },
  {
   "cell_type": "markdown",
   "id": "abde9c25",
   "metadata": {},
   "source": [
    "Select lines from a text file (or from the STDIN from a pipe) verifying a regular expression and apply on them a modification or any other treatment.   \n",
    "**Syntax** :   \n",
    "\tsed [-n] [-e script] [-f fichier-commandes] fichier-source  \n",
    "    or  \n",
    "    Sed ‘s/searched_motif/new_motif/’ file  "
   ]
  },
  {
   "cell_type": "markdown",
   "id": "4ce124d7",
   "metadata": {},
   "source": [
    "| **Example** | **Description** |\n",
    "|---------|---------|\n",
    "| Sed ‘s/linux/LINUX/’  file | Change the first occurance of “linux” by “LINUX” |\n",
    "| Sed ‘s/linux/LINUX/3’ file | Change the third occurance of “linux” by “LINUX” |  \n",
    "| Sed ‘s/linux/LINUX/g’ file | Change all occurance of “linux” by “LINUX” |  \n",
    "| Sed ‘s/[Ll]inux/LINUX/’ file | Change the first occurrence of “linux” or “Linux” by “LINUX” |  \n",
    "\n"
   ]
  },
  {
   "cell_type": "markdown",
   "id": "78860832",
   "metadata": {},
   "source": [
    "**awk: Searching and line modification**"
   ]
  },
  {
   "cell_type": "markdown",
   "id": "d86f0b58",
   "metadata": {},
   "source": [
    "`awK` : language for manage files line-by-line    \n",
    "    **Syntax**    :\n",
    "\tawk [-F] [-v variable] [-f commands file] 'program' file  "
   ]
  },
  {
   "cell_type": "markdown",
   "id": "31943bae",
   "metadata": {},
   "source": [
    "Predifined variables of awk:  \n",
    "\n",
    "| Variable | Description | Valeur |  \n",
    "|--------|--------|--------|\n",
    "| $0 | One line per entry  |\t    \n",
    "| F\t| Field Separator\t| F” “ |  \n",
    "| NF | Number of fields\t| NF=4 |  \n",
    "| NR | Number of lines\t| NR=5 |  "
   ]
  },
  {
   "cell_type": "markdown",
   "id": "f07f4c0f",
   "metadata": {},
   "source": [
    "# Further readings: UNIX Tutorial for Beginners"
   ]
  },
  {
   "cell_type": "markdown",
   "id": "bb01d3b4",
   "metadata": {},
   "source": [
    "for more information and for beginner see (http://www.ee.surrey.ac.uk/Teaching/Unix/)"
   ]
  }
 ],
 "metadata": {
  "kernelspec": {
   "display_name": "Python 3",
   "language": "python",
   "name": "python3"
  },
  "language_info": {
   "codemirror_mode": {
    "name": "ipython",
    "version": 3
   },
   "file_extension": ".py",
   "mimetype": "text/x-python",
   "name": "python",
   "nbconvert_exporter": "python",
   "pygments_lexer": "ipython3",
   "version": "3.8.8"
  }
 },
 "nbformat": 4,
 "nbformat_minor": 5
}
