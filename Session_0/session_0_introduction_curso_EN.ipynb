{
 "cells": [
  {
   "cell_type": "markdown",
   "id": "aeef54d6",
   "metadata": {},
   "source": [
    "# Introduction to genome assembly using Oxford Nanopore sequencing"
   ]
  },
  {
   "cell_type": "markdown",
   "id": "be60f78b",
   "metadata": {},
   "source": [
    "New sequencing or NGS technologies have opened the door to the massive sequencing of life with the possibility of sequencing complex and contiguous genomes thanks to very large reads.\n",
    "Among these technologies, nanopore sequencing is distinguished by a very low cost, but also a step back in accuracy. A wide range of algorithms have been developed to analyze nanopore data"
   ]
  },
  {
   "cell_type": "markdown",
   "id": "d60ef07b",
   "metadata": {},
   "source": [
    "In this course, we will learn the methods and workflow for analyzing raw reads and resulting in genome assembly.  We will see how to obtain nucleotide sequences from electrical signals, dive into the most commonly used assembly paradigm for long fragments, test and compare several state-of-the-art assemblers, and finally evaluate the quality of the resulting assembly with and without a reference genome."
   ]
  },
  {
   "cell_type": "markdown",
   "id": "63952784",
   "metadata": {},
   "source": [
    "Course objectives:  \n",
    "-To understand the advantages and disadvantages of Nanopore sequencing.  \n",
    "-To become familiar with de novo assembly  \n",
    "-To practice and have experience in de novo genome assembly. "
   ]
  },
  {
   "cell_type": "markdown",
   "id": "160a7a05",
   "metadata": {},
   "source": [
    "Program:  \n",
    "`session_0`: \n",
    "**Prior to the start of the course**, students should have installed a Linux virtual machine on their computers and the programs required for the course, mainly Anaconda https://www.anaconda.com/products/distribution\n",
    "Students should be familiar with the jupyter notebook https://jupyternotebook.readthedocs.io/en/stable/examples/Notebook/Notebook%20Basics.html  \n",
    "\n",
    "`session_1`: Introduction to Oxford Nanopore; Getting to know the Fast5 format; Calling readings with Guppy.  \n",
    "`session_2`: Quality control of fastq reads; Mapping reads against a reference using Minimap2.   \n",
    "`session_3`: Genome assembly with Minimap2 and Miniasm; Flye and Raven.\n",
    "`session_4`: Polishing of genome assemblies; Racon; Medaka.  \n",
    "`session_5`: Quality of assembly; Quast; BUSCO.\n"
   ]
  },
  {
   "cell_type": "markdown",
   "id": "5ca9a849",
   "metadata": {},
   "source": [
    "# Install software with Conda"
   ]
  },
  {
   "cell_type": "markdown",
   "id": "d0c800cb",
   "metadata": {},
   "source": [
    "Some software must be installed before starting the course for each session using Jupyter notebook."
   ]
  },
  {
   "cell_type": "markdown",
   "id": "2772929a",
   "metadata": {},
   "source": [
    "some software to install duringn the course:  \n",
    "- BUSCO  \n",
    "- canu  \n",
    "- edlib  \n",
    "- flye  \n",
    "- miniasm  \n",
    "- minimap2  \n",
    "- mummer  \n",
    "- nanopolish  \n",
    "- quast  \n",
    "- racon  \n",
    "- raven-assembler   \n",
    "- seaborn  \n",
    "- gepard  \n",
    "- medaka  \n",
    "- nanoplot (via pip)"
   ]
  },
  {
   "cell_type": "markdown",
   "id": "29d73f63",
   "metadata": {},
   "source": [
    "How it works:"
   ]
  },
  {
   "cell_type": "markdown",
   "id": "4d2be9e6",
   "metadata": {},
   "source": [
    "Using a terminal"
   ]
  },
  {
   "cell_type": "code",
   "execution_count": null,
   "id": "b6f392b3",
   "metadata": {},
   "outputs": [],
   "source": [
    "!conda config --add channels bioconda\n",
    "!conda config --add channels conda-forge"
   ]
  },
  {
   "cell_type": "markdown",
   "id": "a4443ba3",
   "metadata": {},
   "source": [
    "doing an environement"
   ]
  },
  {
   "cell_type": "code",
   "execution_count": null,
   "id": "ed0fdedf",
   "metadata": {},
   "outputs": [],
   "source": [
    "!conda create -y -v --name curso"
   ]
  },
  {
   "cell_type": "markdown",
   "id": "34e1e9ce",
   "metadata": {},
   "source": [
    "To install a package (minimap2) en el env:"
   ]
  },
  {
   "cell_type": "code",
   "execution_count": null,
   "id": "337c7a40",
   "metadata": {},
   "outputs": [],
   "source": [
    "!conda install -y -v -n curso minimap2 "
   ]
  },
  {
   "cell_type": "markdown",
   "id": "7c207d61",
   "metadata": {},
   "source": [
    "To activate a package :"
   ]
  },
  {
   "cell_type": "code",
   "execution_count": null,
   "id": "170bbd04",
   "metadata": {},
   "outputs": [],
   "source": [
    "!conda activate minimap2"
   ]
  },
  {
   "cell_type": "markdown",
   "id": "0603ad9a",
   "metadata": {},
   "source": [
    "This course uses some parts of the IRD 2022 course on Nanopore (Orjuela et al) and the Physalia course on Nanopore (https://www.physalia-courses.org). \n",
    "romain.guyot@ird.fr"
   ]
  },
  {
   "cell_type": "code",
   "execution_count": null,
   "id": "db600044",
   "metadata": {},
   "outputs": [],
   "source": []
  }
 ],
 "metadata": {
  "kernelspec": {
   "display_name": "Python 3",
   "language": "python",
   "name": "python3"
  },
  "language_info": {
   "codemirror_mode": {
    "name": "ipython",
    "version": 3
   },
   "file_extension": ".py",
   "mimetype": "text/x-python",
   "name": "python",
   "nbconvert_exporter": "python",
   "pygments_lexer": "ipython3",
   "version": "3.8.8"
  }
 },
 "nbformat": 4,
 "nbformat_minor": 5
}
